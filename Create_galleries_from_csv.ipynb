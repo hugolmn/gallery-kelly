{
 "cells": [
  {
   "cell_type": "code",
   "execution_count": 20,
   "metadata": {},
   "outputs": [],
   "source": [
    "import yaml\n",
    "import pandas as pd\n",
    "import numpy as np"
   ]
  },
  {
   "cell_type": "code",
   "execution_count": 41,
   "metadata": {},
   "outputs": [],
   "source": [
    "df = pd.read_csv('paintings.csv')\n",
    "df['collection'] = df.collection.fillna('full-gallery')\n",
    "df = df.replace(np.nan, '')"
   ]
  },
  {
   "cell_type": "code",
   "execution_count": 42,
   "metadata": {},
   "outputs": [],
   "source": [
    "for collection in df.collection.unique():\n",
    "    paintings = pd.Series({\n",
    "        'pictures': df[df.collection == collection].drop(columns='collection').to_dict(orient='records'),\n",
    "        'picture_path': 'paintings'\n",
    "    })\n",
    "    with open('_data\\galleries\\{}.yml'.format(collection), 'w+') as file:\n",
    "        yaml.dump(paintings.to_dict(), file)\n",
    "        \n",
    "paintings = pd.Series({\n",
    "    'pictures': df.drop(columns='collection').to_dict(orient='records'),\n",
    "    'picture_path': 'paintings'\n",
    "})\n",
    "with open('_data\\galleries\\paintings.yml', 'w+') as file:\n",
    "    yaml.dump(paintings.to_dict(), file)"
   ]
  }
 ],
 "metadata": {
  "kernelspec": {
   "display_name": "Python 3",
   "language": "python",
   "name": "python3"
  },
  "language_info": {
   "codemirror_mode": {
    "name": "ipython",
    "version": 3
   },
   "file_extension": ".py",
   "mimetype": "text/x-python",
   "name": "python",
   "nbconvert_exporter": "python",
   "pygments_lexer": "ipython3",
   "version": "3.7.3"
  }
 },
 "nbformat": 4,
 "nbformat_minor": 4
}
